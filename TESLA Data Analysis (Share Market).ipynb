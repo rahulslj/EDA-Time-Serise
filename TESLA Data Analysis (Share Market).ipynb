{
 "cells": [
  {
   "cell_type": "markdown",
   "id": "5824cc54",
   "metadata": {},
   "source": [
    "# Time Series EDA"
   ]
  },
  {
   "cell_type": "code",
   "execution_count": 2,
   "id": "429bfa62",
   "metadata": {},
   "outputs": [
    {
     "name": "stdout",
     "output_type": "stream",
     "text": [
      "Requirement already satisfied: pandas-datareader in c:\\users\\mannat011\\anaconda3\\lib\\site-packages (0.10.0)\n",
      "Requirement already satisfied: requests>=2.19.0 in c:\\users\\mannat011\\anaconda3\\lib\\site-packages (from pandas-datareader) (2.25.1)\n",
      "Requirement already satisfied: lxml in c:\\users\\mannat011\\anaconda3\\lib\\site-packages (from pandas-datareader) (4.6.3)\n",
      "Requirement already satisfied: pandas>=0.23 in c:\\users\\mannat011\\anaconda3\\lib\\site-packages (from pandas-datareader) (1.2.4)\n",
      "Requirement already satisfied: numpy>=1.16.5 in c:\\users\\mannat011\\anaconda3\\lib\\site-packages (from pandas>=0.23->pandas-datareader) (1.20.1)\n",
      "Requirement already satisfied: python-dateutil>=2.7.3 in c:\\users\\mannat011\\anaconda3\\lib\\site-packages (from pandas>=0.23->pandas-datareader) (2.8.1)\n",
      "Requirement already satisfied: pytz>=2017.3 in c:\\users\\mannat011\\anaconda3\\lib\\site-packages (from pandas>=0.23->pandas-datareader) (2021.1)\n",
      "Requirement already satisfied: six>=1.5 in c:\\users\\mannat011\\anaconda3\\lib\\site-packages (from python-dateutil>=2.7.3->pandas>=0.23->pandas-datareader) (1.15.0)\n",
      "Requirement already satisfied: chardet<5,>=3.0.2 in c:\\users\\mannat011\\anaconda3\\lib\\site-packages (from requests>=2.19.0->pandas-datareader) (4.0.0)\n",
      "Requirement already satisfied: urllib3<1.27,>=1.21.1 in c:\\users\\mannat011\\anaconda3\\lib\\site-packages (from requests>=2.19.0->pandas-datareader) (1.26.4)\n",
      "Requirement already satisfied: certifi>=2017.4.17 in c:\\users\\mannat011\\anaconda3\\lib\\site-packages (from requests>=2.19.0->pandas-datareader) (2020.12.5)\n",
      "Requirement already satisfied: idna<3,>=2.5 in c:\\users\\mannat011\\anaconda3\\lib\\site-packages (from requests>=2.19.0->pandas-datareader) (2.10)\n"
     ]
    }
   ],
   "source": [
    "## Install Panndas Data Reader\n",
    "!pip install pandas-datareader"
   ]
  },
  {
   "cell_type": "code",
   "execution_count": 3,
   "id": "5b69c82f",
   "metadata": {},
   "outputs": [],
   "source": [
    "import pandas_datareader as pdr\n",
    "import pandas as pd\n",
    "from datetime import datetime"
   ]
  },
  {
   "cell_type": "code",
   "execution_count": 4,
   "id": "928626e7",
   "metadata": {},
   "outputs": [],
   "source": [
    "df_tesla=pdr.get_data_yahoo('TSLA')"
   ]
  },
  {
   "cell_type": "code",
   "execution_count": 5,
   "id": "6d3bf38d",
   "metadata": {},
   "outputs": [
    {
     "data": {
      "text/html": [
       "<div>\n",
       "<style scoped>\n",
       "    .dataframe tbody tr th:only-of-type {\n",
       "        vertical-align: middle;\n",
       "    }\n",
       "\n",
       "    .dataframe tbody tr th {\n",
       "        vertical-align: top;\n",
       "    }\n",
       "\n",
       "    .dataframe thead th {\n",
       "        text-align: right;\n",
       "    }\n",
       "</style>\n",
       "<table border=\"1\" class=\"dataframe\">\n",
       "  <thead>\n",
       "    <tr style=\"text-align: right;\">\n",
       "      <th></th>\n",
       "      <th>High</th>\n",
       "      <th>Low</th>\n",
       "      <th>Open</th>\n",
       "      <th>Close</th>\n",
       "      <th>Volume</th>\n",
       "      <th>Adj Close</th>\n",
       "    </tr>\n",
       "    <tr>\n",
       "      <th>Date</th>\n",
       "      <th></th>\n",
       "      <th></th>\n",
       "      <th></th>\n",
       "      <th></th>\n",
       "      <th></th>\n",
       "      <th></th>\n",
       "    </tr>\n",
       "  </thead>\n",
       "  <tbody>\n",
       "    <tr>\n",
       "      <th>2017-03-13</th>\n",
       "      <td>49.369999</td>\n",
       "      <td>48.556000</td>\n",
       "      <td>48.964001</td>\n",
       "      <td>49.234001</td>\n",
       "      <td>15113000.0</td>\n",
       "      <td>49.234001</td>\n",
       "    </tr>\n",
       "    <tr>\n",
       "      <th>2017-03-14</th>\n",
       "      <td>51.624001</td>\n",
       "      <td>49.203999</td>\n",
       "      <td>49.222000</td>\n",
       "      <td>51.599998</td>\n",
       "      <td>37992000.0</td>\n",
       "      <td>51.599998</td>\n",
       "    </tr>\n",
       "    <tr>\n",
       "      <th>2017-03-15</th>\n",
       "      <td>52.200001</td>\n",
       "      <td>50.854000</td>\n",
       "      <td>51.400002</td>\n",
       "      <td>51.146000</td>\n",
       "      <td>26654000.0</td>\n",
       "      <td>51.146000</td>\n",
       "    </tr>\n",
       "    <tr>\n",
       "      <th>2017-03-16</th>\n",
       "      <td>53.150002</td>\n",
       "      <td>51.812000</td>\n",
       "      <td>52.480000</td>\n",
       "      <td>52.410000</td>\n",
       "      <td>35661000.0</td>\n",
       "      <td>52.410000</td>\n",
       "    </tr>\n",
       "    <tr>\n",
       "      <th>2017-03-17</th>\n",
       "      <td>53.066002</td>\n",
       "      <td>52.240002</td>\n",
       "      <td>52.799999</td>\n",
       "      <td>52.299999</td>\n",
       "      <td>32487500.0</td>\n",
       "      <td>52.299999</td>\n",
       "    </tr>\n",
       "  </tbody>\n",
       "</table>\n",
       "</div>"
      ],
      "text/plain": [
       "                 High        Low       Open      Close      Volume  Adj Close\n",
       "Date                                                                         \n",
       "2017-03-13  49.369999  48.556000  48.964001  49.234001  15113000.0  49.234001\n",
       "2017-03-14  51.624001  49.203999  49.222000  51.599998  37992000.0  51.599998\n",
       "2017-03-15  52.200001  50.854000  51.400002  51.146000  26654000.0  51.146000\n",
       "2017-03-16  53.150002  51.812000  52.480000  52.410000  35661000.0  52.410000\n",
       "2017-03-17  53.066002  52.240002  52.799999  52.299999  32487500.0  52.299999"
      ]
     },
     "execution_count": 5,
     "metadata": {},
     "output_type": "execute_result"
    }
   ],
   "source": [
    "df_tesla.head()"
   ]
  },
  {
   "cell_type": "code",
   "execution_count": 6,
   "id": "0c1e1d6c",
   "metadata": {},
   "outputs": [
    {
     "data": {
      "text/html": [
       "<div>\n",
       "<style scoped>\n",
       "    .dataframe tbody tr th:only-of-type {\n",
       "        vertical-align: middle;\n",
       "    }\n",
       "\n",
       "    .dataframe tbody tr th {\n",
       "        vertical-align: top;\n",
       "    }\n",
       "\n",
       "    .dataframe thead th {\n",
       "        text-align: right;\n",
       "    }\n",
       "</style>\n",
       "<table border=\"1\" class=\"dataframe\">\n",
       "  <thead>\n",
       "    <tr style=\"text-align: right;\">\n",
       "      <th></th>\n",
       "      <th>High</th>\n",
       "      <th>Low</th>\n",
       "      <th>Open</th>\n",
       "      <th>Close</th>\n",
       "      <th>Volume</th>\n",
       "      <th>Adj Close</th>\n",
       "    </tr>\n",
       "    <tr>\n",
       "      <th>Date</th>\n",
       "      <th></th>\n",
       "      <th></th>\n",
       "      <th></th>\n",
       "      <th></th>\n",
       "      <th></th>\n",
       "      <th></th>\n",
       "    </tr>\n",
       "  </thead>\n",
       "  <tbody>\n",
       "    <tr>\n",
       "      <th>2022-03-08</th>\n",
       "      <td>849.989990</td>\n",
       "      <td>782.169983</td>\n",
       "      <td>795.530029</td>\n",
       "      <td>824.400024</td>\n",
       "      <td>26799700.0</td>\n",
       "      <td>824.400024</td>\n",
       "    </tr>\n",
       "    <tr>\n",
       "      <th>2022-03-09</th>\n",
       "      <td>860.559998</td>\n",
       "      <td>832.010010</td>\n",
       "      <td>839.479980</td>\n",
       "      <td>858.969971</td>\n",
       "      <td>19728000.0</td>\n",
       "      <td>858.969971</td>\n",
       "    </tr>\n",
       "    <tr>\n",
       "      <th>2022-03-10</th>\n",
       "      <td>854.450012</td>\n",
       "      <td>810.359985</td>\n",
       "      <td>851.450012</td>\n",
       "      <td>838.299988</td>\n",
       "      <td>19549500.0</td>\n",
       "      <td>838.299988</td>\n",
       "    </tr>\n",
       "    <tr>\n",
       "      <th>2022-03-11</th>\n",
       "      <td>843.799988</td>\n",
       "      <td>793.770020</td>\n",
       "      <td>840.200012</td>\n",
       "      <td>795.349976</td>\n",
       "      <td>22272800.0</td>\n",
       "      <td>795.349976</td>\n",
       "    </tr>\n",
       "    <tr>\n",
       "      <th>2022-03-11</th>\n",
       "      <td>843.549988</td>\n",
       "      <td>793.770020</td>\n",
       "      <td>840.197021</td>\n",
       "      <td>795.349976</td>\n",
       "      <td>22345722.0</td>\n",
       "      <td>795.349976</td>\n",
       "    </tr>\n",
       "  </tbody>\n",
       "</table>\n",
       "</div>"
      ],
      "text/plain": [
       "                  High         Low        Open       Close      Volume  \\\n",
       "Date                                                                     \n",
       "2022-03-08  849.989990  782.169983  795.530029  824.400024  26799700.0   \n",
       "2022-03-09  860.559998  832.010010  839.479980  858.969971  19728000.0   \n",
       "2022-03-10  854.450012  810.359985  851.450012  838.299988  19549500.0   \n",
       "2022-03-11  843.799988  793.770020  840.200012  795.349976  22272800.0   \n",
       "2022-03-11  843.549988  793.770020  840.197021  795.349976  22345722.0   \n",
       "\n",
       "             Adj Close  \n",
       "Date                    \n",
       "2022-03-08  824.400024  \n",
       "2022-03-09  858.969971  \n",
       "2022-03-10  838.299988  \n",
       "2022-03-11  795.349976  \n",
       "2022-03-11  795.349976  "
      ]
     },
     "execution_count": 6,
     "metadata": {},
     "output_type": "execute_result"
    }
   ],
   "source": [
    "df_tesla.tail()"
   ]
  },
  {
   "cell_type": "code",
   "execution_count": 7,
   "id": "6f14ad1e",
   "metadata": {},
   "outputs": [
    {
     "data": {
      "text/plain": [
       "<AxesSubplot:xlabel='Date'>"
      ]
     },
     "execution_count": 7,
     "metadata": {},
     "output_type": "execute_result"
    },
    {
     "data": {
      "image/png": "[encoded data removed]",
      "text/plain": [
       "<Figure size 432x288 with 1 Axes>"
      ]
     },
     "metadata": {
      "needs_background": "light"
     },
     "output_type": "display_data"
    }
   ],
   "source": [
    "df_tesla.plot()"
   ]
  },
  {
   "cell_type": "code",
   "execution_count": 8,
   "id": "63e5d047",
   "metadata": {},
   "outputs": [
    {
     "data": {
      "text/plain": [
       "<AxesSubplot:xlabel='Date'>"
      ]
     },
     "execution_count": 8,
     "metadata": {},
     "output_type": "execute_result"
    },
    {
     "data": {
      "image/png": "[encoded data removed]",
      "text/plain": [
       "<Figure size 864x288 with 1 Axes>"
      ]
     },
     "metadata": {
      "needs_background": "light"
     },
     "output_type": "display_data"
    }
   ],
   "source": [
    "df_tesla['High'].plot(figsize=(12,4))"
   ]
  },
  {
   "cell_type": "code",
   "execution_count": 9,
   "id": "090df31e",
   "metadata": {},
   "outputs": [
    {
     "data": {
      "text/plain": [
       "<AxesSubplot:xlabel='Date'>"
      ]
     },
     "execution_count": 9,
     "metadata": {},
     "output_type": "execute_result"
    },
    {
     "data": {
      "image/png": "[encoded data removed]",
      "text/plain": [
       "<Figure size 864x288 with 1 Axes>"
      ]
     },
     "metadata": {
      "needs_background": "light"
     },
     "output_type": "display_data"
    }
   ],
   "source": [
    "## Xlimit & Y limit\n",
    "df_tesla['High'].plot(xlim=['2020-01-01','2021-09-01'], ylim=[0,900], figsize=(12,4))"
   ]
  },
  {
   "cell_type": "code",
   "execution_count": 10,
   "id": "ef76c642",
   "metadata": {},
   "outputs": [
    {
     "data": {
      "text/plain": [
       "<AxesSubplot:xlabel='Date'>"
      ]
     },
     "execution_count": 10,
     "metadata": {},
     "output_type": "execute_result"
    },
    {
     "data": {
      "image/png": "[encoded data removed]",
      "text/plain": [
       "<Figure size 864x288 with 1 Axes>"
      ]
     },
     "metadata": {
      "needs_background": "light"
     },
     "output_type": "display_data"
    }
   ],
   "source": [
    "## Xlimit & Y limit\n",
    "df_tesla['High'].plot(xlim=['2020-01-01','2021-09-01'], ylim=[0,900], figsize=(12,4), ls='--',c='green')"
   ]
  },
  {
   "cell_type": "code",
   "execution_count": 11,
   "id": "96dfde1d",
   "metadata": {},
   "outputs": [
    {
     "data": {
      "text/plain": [
       "DatetimeIndex(['2017-03-13', '2017-03-14', '2017-03-15', '2017-03-16',\n",
       "               '2017-03-17', '2017-03-20', '2017-03-21', '2017-03-22',\n",
       "               '2017-03-23', '2017-03-24',\n",
       "               ...\n",
       "               '2022-03-01', '2022-03-02', '2022-03-03', '2022-03-04',\n",
       "               '2022-03-07', '2022-03-08', '2022-03-09', '2022-03-10',\n",
       "               '2022-03-11', '2022-03-11'],\n",
       "              dtype='datetime64[ns]', name='Date', length=1261, freq=None)"
      ]
     },
     "execution_count": 11,
     "metadata": {},
     "output_type": "execute_result"
    }
   ],
   "source": [
    "df_tesla.index"
   ]
  },
  {
   "cell_type": "code",
   "execution_count": 12,
   "id": "006aa337",
   "metadata": {},
   "outputs": [],
   "source": [
    "index=df_tesla.loc['2020-01-01':'2021-09-01'].index\n",
    "share_open = df_tesla.loc['2020-01-01':'2021-09-01']['Open']"
   ]
  },
  {
   "cell_type": "code",
   "execution_count": 13,
   "id": "2bb91bc6",
   "metadata": {},
   "outputs": [
    {
     "data": {
      "text/plain": [
       "Date\n",
       "2020-01-02     84.900002\n",
       "2020-01-03     88.099998\n",
       "2020-01-06     88.094002\n",
       "2020-01-07     92.279999\n",
       "2020-01-08     94.739998\n",
       "                 ...    \n",
       "2021-08-26    708.309998\n",
       "2021-08-27    705.000000\n",
       "2021-08-30    714.719971\n",
       "2021-08-31    733.000000\n",
       "2021-09-01    734.080017\n",
       "Name: Open, Length: 421, dtype: float64"
      ]
     },
     "execution_count": 13,
     "metadata": {},
     "output_type": "execute_result"
    }
   ],
   "source": [
    "share_open"
   ]
  },
  {
   "cell_type": "code",
   "execution_count": 14,
   "id": "e073b77d",
   "metadata": {},
   "outputs": [
    {
     "data": {
      "text/plain": [
       "DatetimeIndex(['2020-01-02', '2020-01-03', '2020-01-06', '2020-01-07',\n",
       "               '2020-01-08', '2020-01-09', '2020-01-10', '2020-01-13',\n",
       "               '2020-01-14', '2020-01-15',\n",
       "               ...\n",
       "               '2021-08-19', '2021-08-20', '2021-08-23', '2021-08-24',\n",
       "               '2021-08-25', '2021-08-26', '2021-08-27', '2021-08-30',\n",
       "               '2021-08-31', '2021-09-01'],\n",
       "              dtype='datetime64[ns]', name='Date', length=421, freq=None)"
      ]
     },
     "execution_count": 14,
     "metadata": {},
     "output_type": "execute_result"
    }
   ],
   "source": [
    "index"
   ]
  },
  {
   "cell_type": "code",
   "execution_count": 15,
   "id": "b5e6d976",
   "metadata": {},
   "outputs": [],
   "source": [
    "import matplotlib.pyplot as plt\n",
    "%matplotlib inline"
   ]
  },
  {
   "cell_type": "code",
   "execution_count": 16,
   "id": "59811b4b",
   "metadata": {},
   "outputs": [
    {
     "data": {
      "image/png": "[encoded data removed]",
      "text/plain": [
       "<Figure size 432x288 with 1 Axes>"
      ]
     },
     "metadata": {
      "needs_background": "light"
     },
     "output_type": "display_data"
    }
   ],
   "source": [
    "figure,axis=plt.subplots()\n",
    "plt.tight_layout()\n",
    "axis.plot(index,share_open)\n",
    "figure.autofmt_xdate()"
   ]
  },
  {
   "cell_type": "markdown",
   "id": "1cdb554e",
   "metadata": {},
   "source": [
    "# DateTime Index"
   ]
  },
  {
   "cell_type": "code",
   "execution_count": 17,
   "id": "ba04286c",
   "metadata": {},
   "outputs": [],
   "source": [
    "df_tesla=df_tesla.reset_index()"
   ]
  },
  {
   "cell_type": "code",
   "execution_count": 18,
   "id": "fb5e25a0",
   "metadata": {},
   "outputs": [
    {
     "name": "stdout",
     "output_type": "stream",
     "text": [
      "<class 'pandas.core.frame.DataFrame'>\n",
      "RangeIndex: 1261 entries, 0 to 1260\n",
      "Data columns (total 7 columns):\n",
      " #   Column     Non-Null Count  Dtype         \n",
      "---  ------     --------------  -----         \n",
      " 0   Date       1261 non-null   datetime64[ns]\n",
      " 1   High       1261 non-null   float64       \n",
      " 2   Low        1261 non-null   float64       \n",
      " 3   Open       1261 non-null   float64       \n",
      " 4   Close      1261 non-null   float64       \n",
      " 5   Volume     1261 non-null   float64       \n",
      " 6   Adj Close  1261 non-null   float64       \n",
      "dtypes: datetime64[ns](1), float64(6)\n",
      "memory usage: 69.1 KB\n"
     ]
    }
   ],
   "source": [
    "df_tesla.info()"
   ]
  },
  {
   "cell_type": "code",
   "execution_count": 19,
   "id": "25d0b1fe",
   "metadata": {},
   "outputs": [
    {
     "data": {
      "text/plain": [
       "0      2017-03-13\n",
       "1      2017-03-14\n",
       "2      2017-03-15\n",
       "3      2017-03-16\n",
       "4      2017-03-17\n",
       "          ...    \n",
       "1256   2022-03-08\n",
       "1257   2022-03-09\n",
       "1258   2022-03-10\n",
       "1259   2022-03-11\n",
       "1260   2022-03-11\n",
       "Name: Date, Length: 1261, dtype: datetime64[ns]"
      ]
     },
     "execution_count": 19,
     "metadata": {},
     "output_type": "execute_result"
    }
   ],
   "source": [
    "pd.to_datetime(df_tesla['Date'])"
   ]
  },
  {
   "cell_type": "code",
   "execution_count": 21,
   "id": "37d11579",
   "metadata": {},
   "outputs": [
    {
     "data": {
      "text/html": [
       "<div>\n",
       "<style scoped>\n",
       "    .dataframe tbody tr th:only-of-type {\n",
       "        vertical-align: middle;\n",
       "    }\n",
       "\n",
       "    .dataframe tbody tr th {\n",
       "        vertical-align: top;\n",
       "    }\n",
       "\n",
       "    .dataframe thead th {\n",
       "        text-align: right;\n",
       "    }\n",
       "</style>\n",
       "<table border=\"1\" class=\"dataframe\">\n",
       "  <thead>\n",
       "    <tr style=\"text-align: right;\">\n",
       "      <th></th>\n",
       "      <th>High</th>\n",
       "      <th>Low</th>\n",
       "      <th>Open</th>\n",
       "      <th>Close</th>\n",
       "      <th>Volume</th>\n",
       "      <th>Adj Close</th>\n",
       "    </tr>\n",
       "    <tr>\n",
       "      <th>Date</th>\n",
       "      <th></th>\n",
       "      <th></th>\n",
       "      <th></th>\n",
       "      <th></th>\n",
       "      <th></th>\n",
       "      <th></th>\n",
       "    </tr>\n",
       "  </thead>\n",
       "  <tbody>\n",
       "    <tr>\n",
       "      <th>2017-03-13</th>\n",
       "      <td>49.369999</td>\n",
       "      <td>48.556000</td>\n",
       "      <td>48.964001</td>\n",
       "      <td>49.234001</td>\n",
       "      <td>15113000.0</td>\n",
       "      <td>49.234001</td>\n",
       "    </tr>\n",
       "    <tr>\n",
       "      <th>2017-03-14</th>\n",
       "      <td>51.624001</td>\n",
       "      <td>49.203999</td>\n",
       "      <td>49.222000</td>\n",
       "      <td>51.599998</td>\n",
       "      <td>37992000.0</td>\n",
       "      <td>51.599998</td>\n",
       "    </tr>\n",
       "    <tr>\n",
       "      <th>2017-03-15</th>\n",
       "      <td>52.200001</td>\n",
       "      <td>50.854000</td>\n",
       "      <td>51.400002</td>\n",
       "      <td>51.146000</td>\n",
       "      <td>26654000.0</td>\n",
       "      <td>51.146000</td>\n",
       "    </tr>\n",
       "    <tr>\n",
       "      <th>2017-03-16</th>\n",
       "      <td>53.150002</td>\n",
       "      <td>51.812000</td>\n",
       "      <td>52.480000</td>\n",
       "      <td>52.410000</td>\n",
       "      <td>35661000.0</td>\n",
       "      <td>52.410000</td>\n",
       "    </tr>\n",
       "    <tr>\n",
       "      <th>2017-03-17</th>\n",
       "      <td>53.066002</td>\n",
       "      <td>52.240002</td>\n",
       "      <td>52.799999</td>\n",
       "      <td>52.299999</td>\n",
       "      <td>32487500.0</td>\n",
       "      <td>52.299999</td>\n",
       "    </tr>\n",
       "    <tr>\n",
       "      <th>...</th>\n",
       "      <td>...</td>\n",
       "      <td>...</td>\n",
       "      <td>...</td>\n",
       "      <td>...</td>\n",
       "      <td>...</td>\n",
       "      <td>...</td>\n",
       "    </tr>\n",
       "    <tr>\n",
       "      <th>2022-03-08</th>\n",
       "      <td>849.989990</td>\n",
       "      <td>782.169983</td>\n",
       "      <td>795.530029</td>\n",
       "      <td>824.400024</td>\n",
       "      <td>26799700.0</td>\n",
       "      <td>824.400024</td>\n",
       "    </tr>\n",
       "    <tr>\n",
       "      <th>2022-03-09</th>\n",
       "      <td>860.559998</td>\n",
       "      <td>832.010010</td>\n",
       "      <td>839.479980</td>\n",
       "      <td>858.969971</td>\n",
       "      <td>19728000.0</td>\n",
       "      <td>858.969971</td>\n",
       "    </tr>\n",
       "    <tr>\n",
       "      <th>2022-03-10</th>\n",
       "      <td>854.450012</td>\n",
       "      <td>810.359985</td>\n",
       "      <td>851.450012</td>\n",
       "      <td>838.299988</td>\n",
       "      <td>19549500.0</td>\n",
       "      <td>838.299988</td>\n",
       "    </tr>\n",
       "    <tr>\n",
       "      <th>2022-03-11</th>\n",
       "      <td>843.799988</td>\n",
       "      <td>793.770020</td>\n",
       "      <td>840.200012</td>\n",
       "      <td>795.349976</td>\n",
       "      <td>22272800.0</td>\n",
       "      <td>795.349976</td>\n",
       "    </tr>\n",
       "    <tr>\n",
       "      <th>2022-03-11</th>\n",
       "      <td>843.549988</td>\n",
       "      <td>793.770020</td>\n",
       "      <td>840.197021</td>\n",
       "      <td>795.349976</td>\n",
       "      <td>22345722.0</td>\n",
       "      <td>795.349976</td>\n",
       "    </tr>\n",
       "  </tbody>\n",
       "</table>\n",
       "<p>1261 rows × 6 columns</p>\n",
       "</div>"
      ],
      "text/plain": [
       "                  High         Low        Open       Close      Volume  \\\n",
       "Date                                                                     \n",
       "2017-03-13   49.369999   48.556000   48.964001   49.234001  15113000.0   \n",
       "2017-03-14   51.624001   49.203999   49.222000   51.599998  37992000.0   \n",
       "2017-03-15   52.200001   50.854000   51.400002   51.146000  26654000.0   \n",
       "2017-03-16   53.150002   51.812000   52.480000   52.410000  35661000.0   \n",
       "2017-03-17   53.066002   52.240002   52.799999   52.299999  32487500.0   \n",
       "...                ...         ...         ...         ...         ...   \n",
       "2022-03-08  849.989990  782.169983  795.530029  824.400024  26799700.0   \n",
       "2022-03-09  860.559998  832.010010  839.479980  858.969971  19728000.0   \n",
       "2022-03-10  854.450012  810.359985  851.450012  838.299988  19549500.0   \n",
       "2022-03-11  843.799988  793.770020  840.200012  795.349976  22272800.0   \n",
       "2022-03-11  843.549988  793.770020  840.197021  795.349976  22345722.0   \n",
       "\n",
       "             Adj Close  \n",
       "Date                    \n",
       "2017-03-13   49.234001  \n",
       "2017-03-14   51.599998  \n",
       "2017-03-15   51.146000  \n",
       "2017-03-16   52.410000  \n",
       "2017-03-17   52.299999  \n",
       "...                ...  \n",
       "2022-03-08  824.400024  \n",
       "2022-03-09  858.969971  \n",
       "2022-03-10  838.299988  \n",
       "2022-03-11  795.349976  \n",
       "2022-03-11  795.349976  \n",
       "\n",
       "[1261 rows x 6 columns]"
      ]
     },
     "execution_count": 21,
     "metadata": {},
     "output_type": "execute_result"
    }
   ],
   "source": [
    "df_tesla.set_index('Date', drop=True)"
   ]
  },
  {
   "cell_type": "code",
   "execution_count": 22,
   "id": "d75427f6",
   "metadata": {},
   "outputs": [],
   "source": [
    "df_tesla=df_tesla.set_index('Date', drop=True)"
   ]
  },
  {
   "cell_type": "code",
   "execution_count": 23,
   "id": "a47c67e0",
   "metadata": {},
   "outputs": [
    {
     "data": {
      "text/html": [
       "<div>\n",
       "<style scoped>\n",
       "    .dataframe tbody tr th:only-of-type {\n",
       "        vertical-align: middle;\n",
       "    }\n",
       "\n",
       "    .dataframe tbody tr th {\n",
       "        vertical-align: top;\n",
       "    }\n",
       "\n",
       "    .dataframe thead th {\n",
       "        text-align: right;\n",
       "    }\n",
       "</style>\n",
       "<table border=\"1\" class=\"dataframe\">\n",
       "  <thead>\n",
       "    <tr style=\"text-align: right;\">\n",
       "      <th></th>\n",
       "      <th>High</th>\n",
       "      <th>Low</th>\n",
       "      <th>Open</th>\n",
       "      <th>Close</th>\n",
       "      <th>Volume</th>\n",
       "      <th>Adj Close</th>\n",
       "    </tr>\n",
       "    <tr>\n",
       "      <th>Date</th>\n",
       "      <th></th>\n",
       "      <th></th>\n",
       "      <th></th>\n",
       "      <th></th>\n",
       "      <th></th>\n",
       "      <th></th>\n",
       "    </tr>\n",
       "  </thead>\n",
       "  <tbody>\n",
       "    <tr>\n",
       "      <th>2017-03-13</th>\n",
       "      <td>49.369999</td>\n",
       "      <td>48.556000</td>\n",
       "      <td>48.964001</td>\n",
       "      <td>49.234001</td>\n",
       "      <td>15113000.0</td>\n",
       "      <td>49.234001</td>\n",
       "    </tr>\n",
       "    <tr>\n",
       "      <th>2017-03-14</th>\n",
       "      <td>51.624001</td>\n",
       "      <td>49.203999</td>\n",
       "      <td>49.222000</td>\n",
       "      <td>51.599998</td>\n",
       "      <td>37992000.0</td>\n",
       "      <td>51.599998</td>\n",
       "    </tr>\n",
       "    <tr>\n",
       "      <th>2017-03-15</th>\n",
       "      <td>52.200001</td>\n",
       "      <td>50.854000</td>\n",
       "      <td>51.400002</td>\n",
       "      <td>51.146000</td>\n",
       "      <td>26654000.0</td>\n",
       "      <td>51.146000</td>\n",
       "    </tr>\n",
       "    <tr>\n",
       "      <th>2017-03-16</th>\n",
       "      <td>53.150002</td>\n",
       "      <td>51.812000</td>\n",
       "      <td>52.480000</td>\n",
       "      <td>52.410000</td>\n",
       "      <td>35661000.0</td>\n",
       "      <td>52.410000</td>\n",
       "    </tr>\n",
       "    <tr>\n",
       "      <th>2017-03-17</th>\n",
       "      <td>53.066002</td>\n",
       "      <td>52.240002</td>\n",
       "      <td>52.799999</td>\n",
       "      <td>52.299999</td>\n",
       "      <td>32487500.0</td>\n",
       "      <td>52.299999</td>\n",
       "    </tr>\n",
       "  </tbody>\n",
       "</table>\n",
       "</div>"
      ],
      "text/plain": [
       "                 High        Low       Open      Close      Volume  Adj Close\n",
       "Date                                                                         \n",
       "2017-03-13  49.369999  48.556000  48.964001  49.234001  15113000.0  49.234001\n",
       "2017-03-14  51.624001  49.203999  49.222000  51.599998  37992000.0  51.599998\n",
       "2017-03-15  52.200001  50.854000  51.400002  51.146000  26654000.0  51.146000\n",
       "2017-03-16  53.150002  51.812000  52.480000  52.410000  35661000.0  52.410000\n",
       "2017-03-17  53.066002  52.240002  52.799999  52.299999  32487500.0  52.299999"
      ]
     },
     "execution_count": 23,
     "metadata": {},
     "output_type": "execute_result"
    }
   ],
   "source": [
    "df_tesla.head()"
   ]
  },
  {
   "cell_type": "code",
   "execution_count": 24,
   "id": "1da24027",
   "metadata": {},
   "outputs": [
    {
     "data": {
      "text/html": [
       "<div>\n",
       "<style scoped>\n",
       "    .dataframe tbody tr th:only-of-type {\n",
       "        vertical-align: middle;\n",
       "    }\n",
       "\n",
       "    .dataframe tbody tr th {\n",
       "        vertical-align: top;\n",
       "    }\n",
       "\n",
       "    .dataframe thead th {\n",
       "        text-align: right;\n",
       "    }\n",
       "</style>\n",
       "<table border=\"1\" class=\"dataframe\">\n",
       "  <thead>\n",
       "    <tr style=\"text-align: right;\">\n",
       "      <th></th>\n",
       "      <th>High</th>\n",
       "      <th>Low</th>\n",
       "      <th>Open</th>\n",
       "      <th>Close</th>\n",
       "      <th>Volume</th>\n",
       "      <th>Adj Close</th>\n",
       "    </tr>\n",
       "    <tr>\n",
       "      <th>Date</th>\n",
       "      <th></th>\n",
       "      <th></th>\n",
       "      <th></th>\n",
       "      <th></th>\n",
       "      <th></th>\n",
       "      <th></th>\n",
       "    </tr>\n",
       "  </thead>\n",
       "  <tbody>\n",
       "    <tr>\n",
       "      <th>2022-03-08</th>\n",
       "      <td>849.989990</td>\n",
       "      <td>782.169983</td>\n",
       "      <td>795.530029</td>\n",
       "      <td>824.400024</td>\n",
       "      <td>26799700.0</td>\n",
       "      <td>824.400024</td>\n",
       "    </tr>\n",
       "    <tr>\n",
       "      <th>2022-03-09</th>\n",
       "      <td>860.559998</td>\n",
       "      <td>832.010010</td>\n",
       "      <td>839.479980</td>\n",
       "      <td>858.969971</td>\n",
       "      <td>19728000.0</td>\n",
       "      <td>858.969971</td>\n",
       "    </tr>\n",
       "    <tr>\n",
       "      <th>2022-03-10</th>\n",
       "      <td>854.450012</td>\n",
       "      <td>810.359985</td>\n",
       "      <td>851.450012</td>\n",
       "      <td>838.299988</td>\n",
       "      <td>19549500.0</td>\n",
       "      <td>838.299988</td>\n",
       "    </tr>\n",
       "    <tr>\n",
       "      <th>2022-03-11</th>\n",
       "      <td>843.799988</td>\n",
       "      <td>793.770020</td>\n",
       "      <td>840.200012</td>\n",
       "      <td>795.349976</td>\n",
       "      <td>22272800.0</td>\n",
       "      <td>795.349976</td>\n",
       "    </tr>\n",
       "    <tr>\n",
       "      <th>2022-03-11</th>\n",
       "      <td>843.549988</td>\n",
       "      <td>793.770020</td>\n",
       "      <td>840.197021</td>\n",
       "      <td>795.349976</td>\n",
       "      <td>22345722.0</td>\n",
       "      <td>795.349976</td>\n",
       "    </tr>\n",
       "  </tbody>\n",
       "</table>\n",
       "</div>"
      ],
      "text/plain": [
       "                  High         Low        Open       Close      Volume  \\\n",
       "Date                                                                     \n",
       "2022-03-08  849.989990  782.169983  795.530029  824.400024  26799700.0   \n",
       "2022-03-09  860.559998  832.010010  839.479980  858.969971  19728000.0   \n",
       "2022-03-10  854.450012  810.359985  851.450012  838.299988  19549500.0   \n",
       "2022-03-11  843.799988  793.770020  840.200012  795.349976  22272800.0   \n",
       "2022-03-11  843.549988  793.770020  840.197021  795.349976  22345722.0   \n",
       "\n",
       "             Adj Close  \n",
       "Date                    \n",
       "2022-03-08  824.400024  \n",
       "2022-03-09  858.969971  \n",
       "2022-03-10  838.299988  \n",
       "2022-03-11  795.349976  \n",
       "2022-03-11  795.349976  "
      ]
     },
     "execution_count": 24,
     "metadata": {},
     "output_type": "execute_result"
    }
   ],
   "source": [
    "df_tesla.tail()"
   ]
  },
  {
   "cell_type": "code",
   "execution_count": 27,
   "id": "f9fee604",
   "metadata": {},
   "outputs": [],
   "source": [
    "# DateTime\n",
    "from datetime import datetime"
   ]
  },
  {
   "cell_type": "code",
   "execution_count": 28,
   "id": "3d644846",
   "metadata": {},
   "outputs": [
    {
     "data": {
      "text/plain": [
       "datetime.datetime(2021, 11, 21, 0, 0)"
      ]
     },
     "execution_count": 28,
     "metadata": {},
     "output_type": "execute_result"
    }
   ],
   "source": [
    "datetime(2021,11,21)"
   ]
  },
  {
   "cell_type": "code",
   "execution_count": 29,
   "id": "5b41f992",
   "metadata": {},
   "outputs": [
    {
     "data": {
      "text/plain": [
       "datetime.datetime(2022, 3, 12, 12, 6, 14, 843068)"
      ]
     },
     "execution_count": 29,
     "metadata": {},
     "output_type": "execute_result"
    }
   ],
   "source": [
    "datetime.now()"
   ]
  },
  {
   "cell_type": "code",
   "execution_count": 30,
   "id": "9792732a",
   "metadata": {},
   "outputs": [],
   "source": [
    "def add_num(num1,num2):\n",
    "    return num1+num2"
   ]
  },
  {
   "cell_type": "code",
   "execution_count": 31,
   "id": "4c1aea3f",
   "metadata": {},
   "outputs": [
    {
     "name": "stdout",
     "output_type": "stream",
     "text": [
      "0:00:00.000999\n"
     ]
    }
   ],
   "source": [
    "start_time=datetime.now()\n",
    "num1=20\n",
    "num2=30\n",
    "\n",
    "add_num(num1,num2)\n",
    "end_time=datetime.now()\n",
    "print(end_time-start_time)"
   ]
  },
  {
   "cell_type": "code",
   "execution_count": 32,
   "id": "d985e000",
   "metadata": {},
   "outputs": [],
   "source": [
    "date=datetime(2021,11,21)"
   ]
  },
  {
   "cell_type": "code",
   "execution_count": 33,
   "id": "363de98b",
   "metadata": {},
   "outputs": [
    {
     "data": {
      "text/plain": [
       "datetime.datetime(2021, 11, 21, 0, 0)"
      ]
     },
     "execution_count": 33,
     "metadata": {},
     "output_type": "execute_result"
    }
   ],
   "source": [
    "date"
   ]
  },
  {
   "cell_type": "code",
   "execution_count": 34,
   "id": "06f6e230",
   "metadata": {},
   "outputs": [
    {
     "data": {
      "text/plain": [
       "datetime.date(2021, 11, 21)"
      ]
     },
     "execution_count": 34,
     "metadata": {},
     "output_type": "execute_result"
    }
   ],
   "source": [
    "date.date()"
   ]
  },
  {
   "cell_type": "code",
   "execution_count": 35,
   "id": "b8067161",
   "metadata": {},
   "outputs": [
    {
     "data": {
      "text/plain": [
       "21"
      ]
     },
     "execution_count": 35,
     "metadata": {},
     "output_type": "execute_result"
    }
   ],
   "source": [
    "date.day"
   ]
  },
  {
   "cell_type": "code",
   "execution_count": 36,
   "id": "ce4f9a65",
   "metadata": {},
   "outputs": [
    {
     "data": {
      "text/plain": [
       "11"
      ]
     },
     "execution_count": 36,
     "metadata": {},
     "output_type": "execute_result"
    }
   ],
   "source": [
    "date.month"
   ]
  },
  {
   "cell_type": "code",
   "execution_count": 37,
   "id": "ce3fdb0e",
   "metadata": {},
   "outputs": [
    {
     "data": {
      "text/plain": [
       "2021"
      ]
     },
     "execution_count": 37,
     "metadata": {},
     "output_type": "execute_result"
    }
   ],
   "source": [
    "date.year"
   ]
  },
  {
   "cell_type": "code",
   "execution_count": 38,
   "id": "0b4b76ca",
   "metadata": {},
   "outputs": [
    {
     "data": {
      "text/plain": [
       "6"
      ]
     },
     "execution_count": 38,
     "metadata": {},
     "output_type": "execute_result"
    }
   ],
   "source": [
    "date.weekday()"
   ]
  },
  {
   "cell_type": "markdown",
   "id": "79468165",
   "metadata": {},
   "source": [
    "# #Time Resampling"
   ]
  },
  {
   "cell_type": "code",
   "execution_count": 39,
   "id": "3c15054a",
   "metadata": {},
   "outputs": [
    {
     "data": {
      "text/html": [
       "<div>\n",
       "<style scoped>\n",
       "    .dataframe tbody tr th:only-of-type {\n",
       "        vertical-align: middle;\n",
       "    }\n",
       "\n",
       "    .dataframe tbody tr th {\n",
       "        vertical-align: top;\n",
       "    }\n",
       "\n",
       "    .dataframe thead th {\n",
       "        text-align: right;\n",
       "    }\n",
       "</style>\n",
       "<table border=\"1\" class=\"dataframe\">\n",
       "  <thead>\n",
       "    <tr style=\"text-align: right;\">\n",
       "      <th></th>\n",
       "      <th>High</th>\n",
       "      <th>Low</th>\n",
       "      <th>Open</th>\n",
       "      <th>Close</th>\n",
       "      <th>Volume</th>\n",
       "      <th>Adj Close</th>\n",
       "    </tr>\n",
       "    <tr>\n",
       "      <th>Date</th>\n",
       "      <th></th>\n",
       "      <th></th>\n",
       "      <th></th>\n",
       "      <th></th>\n",
       "      <th></th>\n",
       "      <th></th>\n",
       "    </tr>\n",
       "  </thead>\n",
       "  <tbody>\n",
       "    <tr>\n",
       "      <th>2017-03-13</th>\n",
       "      <td>49.369999</td>\n",
       "      <td>48.556000</td>\n",
       "      <td>48.964001</td>\n",
       "      <td>49.234001</td>\n",
       "      <td>15113000.0</td>\n",
       "      <td>49.234001</td>\n",
       "    </tr>\n",
       "    <tr>\n",
       "      <th>2017-03-14</th>\n",
       "      <td>51.624001</td>\n",
       "      <td>49.203999</td>\n",
       "      <td>49.222000</td>\n",
       "      <td>51.599998</td>\n",
       "      <td>37992000.0</td>\n",
       "      <td>51.599998</td>\n",
       "    </tr>\n",
       "    <tr>\n",
       "      <th>2017-03-15</th>\n",
       "      <td>52.200001</td>\n",
       "      <td>50.854000</td>\n",
       "      <td>51.400002</td>\n",
       "      <td>51.146000</td>\n",
       "      <td>26654000.0</td>\n",
       "      <td>51.146000</td>\n",
       "    </tr>\n",
       "    <tr>\n",
       "      <th>2017-03-16</th>\n",
       "      <td>53.150002</td>\n",
       "      <td>51.812000</td>\n",
       "      <td>52.480000</td>\n",
       "      <td>52.410000</td>\n",
       "      <td>35661000.0</td>\n",
       "      <td>52.410000</td>\n",
       "    </tr>\n",
       "    <tr>\n",
       "      <th>2017-03-17</th>\n",
       "      <td>53.066002</td>\n",
       "      <td>52.240002</td>\n",
       "      <td>52.799999</td>\n",
       "      <td>52.299999</td>\n",
       "      <td>32487500.0</td>\n",
       "      <td>52.299999</td>\n",
       "    </tr>\n",
       "  </tbody>\n",
       "</table>\n",
       "</div>"
      ],
      "text/plain": [
       "                 High        Low       Open      Close      Volume  Adj Close\n",
       "Date                                                                         \n",
       "2017-03-13  49.369999  48.556000  48.964001  49.234001  15113000.0  49.234001\n",
       "2017-03-14  51.624001  49.203999  49.222000  51.599998  37992000.0  51.599998\n",
       "2017-03-15  52.200001  50.854000  51.400002  51.146000  26654000.0  51.146000\n",
       "2017-03-16  53.150002  51.812000  52.480000  52.410000  35661000.0  52.410000\n",
       "2017-03-17  53.066002  52.240002  52.799999  52.299999  32487500.0  52.299999"
      ]
     },
     "execution_count": 39,
     "metadata": {},
     "output_type": "execute_result"
    }
   ],
   "source": [
    "df_tesla.head()"
   ]
  },
  {
   "cell_type": "code",
   "execution_count": 40,
   "id": "8195ce8b",
   "metadata": {},
   "outputs": [
    {
     "data": {
      "text/plain": [
       "<pandas.core.resample.DatetimeIndexResampler object at 0x000001B86C1F2F40>"
      ]
     },
     "execution_count": 40,
     "metadata": {},
     "output_type": "execute_result"
    }
   ],
   "source": [
    "df_tesla.resample(rule='A')"
   ]
  },
  {
   "cell_type": "code",
   "execution_count": 41,
   "id": "e1d2cd04",
   "metadata": {},
   "outputs": [
    {
     "data": {
      "text/html": [
       "<div>\n",
       "<style scoped>\n",
       "    .dataframe tbody tr th:only-of-type {\n",
       "        vertical-align: middle;\n",
       "    }\n",
       "\n",
       "    .dataframe tbody tr th {\n",
       "        vertical-align: top;\n",
       "    }\n",
       "\n",
       "    .dataframe thead th {\n",
       "        text-align: right;\n",
       "    }\n",
       "</style>\n",
       "<table border=\"1\" class=\"dataframe\">\n",
       "  <thead>\n",
       "    <tr style=\"text-align: right;\">\n",
       "      <th></th>\n",
       "      <th>High</th>\n",
       "      <th>Low</th>\n",
       "      <th>Open</th>\n",
       "      <th>Close</th>\n",
       "      <th>Volume</th>\n",
       "      <th>Adj Close</th>\n",
       "    </tr>\n",
       "    <tr>\n",
       "      <th>Date</th>\n",
       "      <th></th>\n",
       "      <th></th>\n",
       "      <th></th>\n",
       "      <th></th>\n",
       "      <th></th>\n",
       "      <th></th>\n",
       "    </tr>\n",
       "  </thead>\n",
       "  <tbody>\n",
       "    <tr>\n",
       "      <th>2017-12-31</th>\n",
       "      <td>49.369999</td>\n",
       "      <td>48.556000</td>\n",
       "      <td>48.964001</td>\n",
       "      <td>49.234001</td>\n",
       "      <td>15113000.0</td>\n",
       "      <td>49.234001</td>\n",
       "    </tr>\n",
       "    <tr>\n",
       "      <th>2018-12-31</th>\n",
       "      <td>52.066002</td>\n",
       "      <td>48.917999</td>\n",
       "      <td>50.556000</td>\n",
       "      <td>50.112000</td>\n",
       "      <td>15403500.0</td>\n",
       "      <td>50.112000</td>\n",
       "    </tr>\n",
       "    <tr>\n",
       "      <th>2019-12-31</th>\n",
       "      <td>37.335999</td>\n",
       "      <td>35.397999</td>\n",
       "      <td>36.220001</td>\n",
       "      <td>35.793999</td>\n",
       "      <td>12328000.0</td>\n",
       "      <td>35.793999</td>\n",
       "    </tr>\n",
       "    <tr>\n",
       "      <th>2020-12-31</th>\n",
       "      <td>80.972000</td>\n",
       "      <td>70.101997</td>\n",
       "      <td>74.940002</td>\n",
       "      <td>72.244003</td>\n",
       "      <td>17357700.0</td>\n",
       "      <td>72.244003</td>\n",
       "    </tr>\n",
       "    <tr>\n",
       "      <th>2021-12-31</th>\n",
       "      <td>566.210022</td>\n",
       "      <td>539.489990</td>\n",
       "      <td>552.549988</td>\n",
       "      <td>563.000000</td>\n",
       "      <td>9800600.0</td>\n",
       "      <td>563.000000</td>\n",
       "    </tr>\n",
       "    <tr>\n",
       "      <th>2022-12-31</th>\n",
       "      <td>802.479980</td>\n",
       "      <td>700.000000</td>\n",
       "      <td>700.390015</td>\n",
       "      <td>764.039978</td>\n",
       "      <td>16909700.0</td>\n",
       "      <td>764.039978</td>\n",
       "    </tr>\n",
       "  </tbody>\n",
       "</table>\n",
       "</div>"
      ],
      "text/plain": [
       "                  High         Low        Open       Close      Volume  \\\n",
       "Date                                                                     \n",
       "2017-12-31   49.369999   48.556000   48.964001   49.234001  15113000.0   \n",
       "2018-12-31   52.066002   48.917999   50.556000   50.112000  15403500.0   \n",
       "2019-12-31   37.335999   35.397999   36.220001   35.793999  12328000.0   \n",
       "2020-12-31   80.972000   70.101997   74.940002   72.244003  17357700.0   \n",
       "2021-12-31  566.210022  539.489990  552.549988  563.000000   9800600.0   \n",
       "2022-12-31  802.479980  700.000000  700.390015  764.039978  16909700.0   \n",
       "\n",
       "             Adj Close  \n",
       "Date                    \n",
       "2017-12-31   49.234001  \n",
       "2018-12-31   50.112000  \n",
       "2019-12-31   35.793999  \n",
       "2020-12-31   72.244003  \n",
       "2021-12-31  563.000000  \n",
       "2022-12-31  764.039978  "
      ]
     },
     "execution_count": 41,
     "metadata": {},
     "output_type": "execute_result"
    }
   ],
   "source": [
    "df_tesla.resample(rule='A').min()"
   ]
  },
  {
   "cell_type": "code",
   "execution_count": 42,
   "id": "abaa1c91",
   "metadata": {},
   "outputs": [
    {
     "data": {
      "text/html": [
       "<div>\n",
       "<style scoped>\n",
       "    .dataframe tbody tr th:only-of-type {\n",
       "        vertical-align: middle;\n",
       "    }\n",
       "\n",
       "    .dataframe tbody tr th {\n",
       "        vertical-align: top;\n",
       "    }\n",
       "\n",
       "    .dataframe thead th {\n",
       "        text-align: right;\n",
       "    }\n",
       "</style>\n",
       "<table border=\"1\" class=\"dataframe\">\n",
       "  <thead>\n",
       "    <tr style=\"text-align: right;\">\n",
       "      <th></th>\n",
       "      <th>High</th>\n",
       "      <th>Low</th>\n",
       "      <th>Open</th>\n",
       "      <th>Close</th>\n",
       "      <th>Volume</th>\n",
       "      <th>Adj Close</th>\n",
       "    </tr>\n",
       "    <tr>\n",
       "      <th>Date</th>\n",
       "      <th></th>\n",
       "      <th></th>\n",
       "      <th></th>\n",
       "      <th></th>\n",
       "      <th></th>\n",
       "      <th></th>\n",
       "    </tr>\n",
       "  </thead>\n",
       "  <tbody>\n",
       "    <tr>\n",
       "      <th>2017-12-31</th>\n",
       "      <td>77.921997</td>\n",
       "      <td>75.870003</td>\n",
       "      <td>77.337997</td>\n",
       "      <td>77.000000</td>\n",
       "      <td>98957000.0</td>\n",
       "      <td>77.000000</td>\n",
       "    </tr>\n",
       "    <tr>\n",
       "      <th>2018-12-31</th>\n",
       "      <td>77.491997</td>\n",
       "      <td>73.424004</td>\n",
       "      <td>75.000000</td>\n",
       "      <td>75.914001</td>\n",
       "      <td>168248500.0</td>\n",
       "      <td>75.914001</td>\n",
       "    </tr>\n",
       "    <tr>\n",
       "      <th>2019-12-31</th>\n",
       "      <td>87.061996</td>\n",
       "      <td>85.269997</td>\n",
       "      <td>87.000000</td>\n",
       "      <td>86.188004</td>\n",
       "      <td>150030500.0</td>\n",
       "      <td>86.188004</td>\n",
       "    </tr>\n",
       "    <tr>\n",
       "      <th>2020-12-31</th>\n",
       "      <td>718.719971</td>\n",
       "      <td>691.119995</td>\n",
       "      <td>699.989990</td>\n",
       "      <td>705.669983</td>\n",
       "      <td>304694000.0</td>\n",
       "      <td>705.669983</td>\n",
       "    </tr>\n",
       "    <tr>\n",
       "      <th>2021-12-31</th>\n",
       "      <td>1243.489990</td>\n",
       "      <td>1217.000000</td>\n",
       "      <td>1234.410034</td>\n",
       "      <td>1229.910034</td>\n",
       "      <td>89396500.0</td>\n",
       "      <td>1229.910034</td>\n",
       "    </tr>\n",
       "    <tr>\n",
       "      <th>2022-12-31</th>\n",
       "      <td>1208.000000</td>\n",
       "      <td>1136.040039</td>\n",
       "      <td>1189.550049</td>\n",
       "      <td>1199.780029</td>\n",
       "      <td>50521900.0</td>\n",
       "      <td>1199.780029</td>\n",
       "    </tr>\n",
       "  </tbody>\n",
       "</table>\n",
       "</div>"
      ],
      "text/plain": [
       "                   High          Low         Open        Close       Volume  \\\n",
       "Date                                                                          \n",
       "2017-12-31    77.921997    75.870003    77.337997    77.000000   98957000.0   \n",
       "2018-12-31    77.491997    73.424004    75.000000    75.914001  168248500.0   \n",
       "2019-12-31    87.061996    85.269997    87.000000    86.188004  150030500.0   \n",
       "2020-12-31   718.719971   691.119995   699.989990   705.669983  304694000.0   \n",
       "2021-12-31  1243.489990  1217.000000  1234.410034  1229.910034   89396500.0   \n",
       "2022-12-31  1208.000000  1136.040039  1189.550049  1199.780029   50521900.0   \n",
       "\n",
       "              Adj Close  \n",
       "Date                     \n",
       "2017-12-31    77.000000  \n",
       "2018-12-31    75.914001  \n",
       "2019-12-31    86.188004  \n",
       "2020-12-31   705.669983  \n",
       "2021-12-31  1229.910034  \n",
       "2022-12-31  1199.780029  "
      ]
     },
     "execution_count": 42,
     "metadata": {},
     "output_type": "execute_result"
    }
   ],
   "source": [
    "df_tesla.resample(rule='A').max()"
   ]
  },
  {
   "cell_type": "code",
   "execution_count": 44,
   "id": "fcf54176",
   "metadata": {},
   "outputs": [
    {
     "data": {
      "text/plain": [
       "<AxesSubplot:xlabel='Date'>"
      ]
     },
     "execution_count": 44,
     "metadata": {},
     "output_type": "execute_result"
    },
    {
     "data": {
      "image/png": "[encoded data removed]",
      "text/plain": [
       "<Figure size 432x288 with 1 Axes>"
      ]
     },
     "metadata": {
      "needs_background": "light"
     },
     "output_type": "display_data"
    }
   ],
   "source": [
    "df_tesla.resample(rule='A').min()['Open'].plot()"
   ]
  },
  {
   "cell_type": "code",
   "execution_count": 45,
   "id": "a480d322",
   "metadata": {},
   "outputs": [
    {
     "data": {
      "text/plain": [
       "<AxesSubplot:xlabel='Date'>"
      ]
     },
     "execution_count": 45,
     "metadata": {},
     "output_type": "execute_result"
    },
    {
     "data": {
      "image/png": "[encoded data removed]",
      "text/plain": [
       "<Figure size 432x288 with 1 Axes>"
      ]
     },
     "metadata": {
      "needs_background": "light"
     },
     "output_type": "display_data"
    }
   ],
   "source": [
    "df_tesla.resample(rule='A').max()['Open'].plot()"
   ]
  },
  {
   "cell_type": "code",
   "execution_count": 46,
   "id": "f3734005",
   "metadata": {},
   "outputs": [
    {
     "data": {
      "text/plain": [
       "<AxesSubplot:xlabel='Date'>"
      ]
     },
     "execution_count": 46,
     "metadata": {},
     "output_type": "execute_result"
    },
    {
     "data": {
      "image/png": "[encoded data removed]",
      "text/plain": [
       "<Figure size 432x288 with 1 Axes>"
      ]
     },
     "metadata": {
      "needs_background": "light"
     },
     "output_type": "display_data"
    }
   ],
   "source": [
    "#Quaterly \n",
    "df_tesla.resample(rule='QS').max()['High'].plot()"
   ]
  },
  {
   "cell_type": "code",
   "execution_count": 52,
   "id": "b629b866",
   "metadata": {},
   "outputs": [
    {
     "data": {
      "text/html": [
       "<div>\n",
       "<style scoped>\n",
       "    .dataframe tbody tr th:only-of-type {\n",
       "        vertical-align: middle;\n",
       "    }\n",
       "\n",
       "    .dataframe tbody tr th {\n",
       "        vertical-align: top;\n",
       "    }\n",
       "\n",
       "    .dataframe thead th {\n",
       "        text-align: right;\n",
       "    }\n",
       "</style>\n",
       "<table border=\"1\" class=\"dataframe\">\n",
       "  <thead>\n",
       "    <tr style=\"text-align: right;\">\n",
       "      <th></th>\n",
       "      <th>High</th>\n",
       "      <th>Low</th>\n",
       "      <th>Open</th>\n",
       "      <th>Close</th>\n",
       "      <th>Volume</th>\n",
       "      <th>Adj Close</th>\n",
       "    </tr>\n",
       "    <tr>\n",
       "      <th>Date</th>\n",
       "      <th></th>\n",
       "      <th></th>\n",
       "      <th></th>\n",
       "      <th></th>\n",
       "      <th></th>\n",
       "      <th></th>\n",
       "    </tr>\n",
       "  </thead>\n",
       "  <tbody>\n",
       "    <tr>\n",
       "      <th>2017-12-29</th>\n",
       "      <td>77.921997</td>\n",
       "      <td>75.870003</td>\n",
       "      <td>77.337997</td>\n",
       "      <td>77.000000</td>\n",
       "      <td>98957000.0</td>\n",
       "      <td>77.000000</td>\n",
       "    </tr>\n",
       "    <tr>\n",
       "      <th>2018-12-31</th>\n",
       "      <td>77.491997</td>\n",
       "      <td>73.424004</td>\n",
       "      <td>75.000000</td>\n",
       "      <td>75.914001</td>\n",
       "      <td>168248500.0</td>\n",
       "      <td>75.914001</td>\n",
       "    </tr>\n",
       "    <tr>\n",
       "      <th>2019-12-31</th>\n",
       "      <td>87.061996</td>\n",
       "      <td>85.269997</td>\n",
       "      <td>87.000000</td>\n",
       "      <td>86.188004</td>\n",
       "      <td>150030500.0</td>\n",
       "      <td>86.188004</td>\n",
       "    </tr>\n",
       "    <tr>\n",
       "      <th>2020-12-31</th>\n",
       "      <td>718.719971</td>\n",
       "      <td>691.119995</td>\n",
       "      <td>699.989990</td>\n",
       "      <td>705.669983</td>\n",
       "      <td>304694000.0</td>\n",
       "      <td>705.669983</td>\n",
       "    </tr>\n",
       "    <tr>\n",
       "      <th>2021-12-31</th>\n",
       "      <td>1243.489990</td>\n",
       "      <td>1217.000000</td>\n",
       "      <td>1234.410034</td>\n",
       "      <td>1229.910034</td>\n",
       "      <td>89396500.0</td>\n",
       "      <td>1229.910034</td>\n",
       "    </tr>\n",
       "    <tr>\n",
       "      <th>2022-12-30</th>\n",
       "      <td>1208.000000</td>\n",
       "      <td>1136.040039</td>\n",
       "      <td>1189.550049</td>\n",
       "      <td>1199.780029</td>\n",
       "      <td>50521900.0</td>\n",
       "      <td>1199.780029</td>\n",
       "    </tr>\n",
       "  </tbody>\n",
       "</table>\n",
       "</div>"
      ],
      "text/plain": [
       "                   High          Low         Open        Close       Volume  \\\n",
       "Date                                                                          \n",
       "2017-12-29    77.921997    75.870003    77.337997    77.000000   98957000.0   \n",
       "2018-12-31    77.491997    73.424004    75.000000    75.914001  168248500.0   \n",
       "2019-12-31    87.061996    85.269997    87.000000    86.188004  150030500.0   \n",
       "2020-12-31   718.719971   691.119995   699.989990   705.669983  304694000.0   \n",
       "2021-12-31  1243.489990  1217.000000  1234.410034  1229.910034   89396500.0   \n",
       "2022-12-30  1208.000000  1136.040039  1189.550049  1199.780029   50521900.0   \n",
       "\n",
       "              Adj Close  \n",
       "Date                     \n",
       "2017-12-29    77.000000  \n",
       "2018-12-31    75.914001  \n",
       "2019-12-31    86.188004  \n",
       "2020-12-31   705.669983  \n",
       "2021-12-31  1229.910034  \n",
       "2022-12-30  1199.780029  "
      ]
     },
     "execution_count": 52,
     "metadata": {},
     "output_type": "execute_result"
    }
   ],
   "source": [
    "#Business End frequency\n",
    "df_tesla.resample(rule='BA').max()"
   ]
  },
  {
   "cell_type": "code",
   "execution_count": 50,
   "id": "26b062de",
   "metadata": {},
   "outputs": [
    {
     "data": {
      "text/html": [
       "<div>\n",
       "<style scoped>\n",
       "    .dataframe tbody tr th:only-of-type {\n",
       "        vertical-align: middle;\n",
       "    }\n",
       "\n",
       "    .dataframe tbody tr th {\n",
       "        vertical-align: top;\n",
       "    }\n",
       "\n",
       "    .dataframe thead th {\n",
       "        text-align: right;\n",
       "    }\n",
       "</style>\n",
       "<table border=\"1\" class=\"dataframe\">\n",
       "  <thead>\n",
       "    <tr style=\"text-align: right;\">\n",
       "      <th></th>\n",
       "      <th>High</th>\n",
       "      <th>Low</th>\n",
       "      <th>Open</th>\n",
       "      <th>Close</th>\n",
       "      <th>Volume</th>\n",
       "      <th>Adj Close</th>\n",
       "    </tr>\n",
       "    <tr>\n",
       "      <th>Date</th>\n",
       "      <th></th>\n",
       "      <th></th>\n",
       "      <th></th>\n",
       "      <th></th>\n",
       "      <th></th>\n",
       "      <th></th>\n",
       "    </tr>\n",
       "  </thead>\n",
       "  <tbody>\n",
       "    <tr>\n",
       "      <th>2017-01-02</th>\n",
       "      <td>56.400002</td>\n",
       "      <td>55.442001</td>\n",
       "      <td>55.745998</td>\n",
       "      <td>55.660000</td>\n",
       "      <td>39938000.0</td>\n",
       "      <td>55.660000</td>\n",
       "    </tr>\n",
       "    <tr>\n",
       "      <th>2017-04-03</th>\n",
       "      <td>77.398003</td>\n",
       "      <td>75.870003</td>\n",
       "      <td>77.337997</td>\n",
       "      <td>76.690002</td>\n",
       "      <td>86307000.0</td>\n",
       "      <td>76.690002</td>\n",
       "    </tr>\n",
       "    <tr>\n",
       "      <th>2017-07-03</th>\n",
       "      <td>77.921997</td>\n",
       "      <td>75.536003</td>\n",
       "      <td>76.050003</td>\n",
       "      <td>77.000000</td>\n",
       "      <td>96622500.0</td>\n",
       "      <td>77.000000</td>\n",
       "    </tr>\n",
       "    <tr>\n",
       "      <th>2017-10-02</th>\n",
       "      <td>72.599998</td>\n",
       "      <td>70.825996</td>\n",
       "      <td>71.396004</td>\n",
       "      <td>71.930000</td>\n",
       "      <td>98957000.0</td>\n",
       "      <td>71.930000</td>\n",
       "    </tr>\n",
       "    <tr>\n",
       "      <th>2018-01-01</th>\n",
       "      <td>72.099998</td>\n",
       "      <td>70.472000</td>\n",
       "      <td>72.000000</td>\n",
       "      <td>71.484001</td>\n",
       "      <td>105007000.0</td>\n",
       "      <td>71.484001</td>\n",
       "    </tr>\n",
       "    <tr>\n",
       "      <th>2018-04-02</th>\n",
       "      <td>74.746002</td>\n",
       "      <td>70.900002</td>\n",
       "      <td>73.031998</td>\n",
       "      <td>74.166000</td>\n",
       "      <td>111737000.0</td>\n",
       "      <td>74.166000</td>\n",
       "    </tr>\n",
       "    <tr>\n",
       "      <th>2018-07-02</th>\n",
       "      <td>77.491997</td>\n",
       "      <td>73.424004</td>\n",
       "      <td>73.818001</td>\n",
       "      <td>75.914001</td>\n",
       "      <td>168248500.0</td>\n",
       "      <td>75.914001</td>\n",
       "    </tr>\n",
       "    <tr>\n",
       "      <th>2018-10-01</th>\n",
       "      <td>75.898003</td>\n",
       "      <td>73.349998</td>\n",
       "      <td>75.000000</td>\n",
       "      <td>75.358002</td>\n",
       "      <td>137127500.0</td>\n",
       "      <td>75.358002</td>\n",
       "    </tr>\n",
       "    <tr>\n",
       "      <th>2019-01-01</th>\n",
       "      <td>70.400002</td>\n",
       "      <td>68.830002</td>\n",
       "      <td>69.241997</td>\n",
       "      <td>69.461998</td>\n",
       "      <td>120754000.0</td>\n",
       "      <td>69.461998</td>\n",
       "    </tr>\n",
       "    <tr>\n",
       "      <th>2019-04-01</th>\n",
       "      <td>59.234001</td>\n",
       "      <td>57.433998</td>\n",
       "      <td>57.660000</td>\n",
       "      <td>58.362000</td>\n",
       "      <td>132735500.0</td>\n",
       "      <td>58.362000</td>\n",
       "    </tr>\n",
       "    <tr>\n",
       "      <th>2019-07-01</th>\n",
       "      <td>53.214001</td>\n",
       "      <td>51.632000</td>\n",
       "      <td>51.834000</td>\n",
       "      <td>52.976002</td>\n",
       "      <td>112091500.0</td>\n",
       "      <td>52.976002</td>\n",
       "    </tr>\n",
       "    <tr>\n",
       "      <th>2019-10-01</th>\n",
       "      <td>87.061996</td>\n",
       "      <td>85.269997</td>\n",
       "      <td>87.000000</td>\n",
       "      <td>86.188004</td>\n",
       "      <td>150030500.0</td>\n",
       "      <td>86.188004</td>\n",
       "    </tr>\n",
       "    <tr>\n",
       "      <th>2020-01-01</th>\n",
       "      <td>193.798004</td>\n",
       "      <td>180.203995</td>\n",
       "      <td>184.699997</td>\n",
       "      <td>183.483994</td>\n",
       "      <td>304694000.0</td>\n",
       "      <td>183.483994</td>\n",
       "    </tr>\n",
       "    <tr>\n",
       "      <th>2020-04-01</th>\n",
       "      <td>217.537994</td>\n",
       "      <td>200.746002</td>\n",
       "      <td>202.556000</td>\n",
       "      <td>215.962006</td>\n",
       "      <td>162659000.0</td>\n",
       "      <td>215.962006</td>\n",
       "    </tr>\n",
       "    <tr>\n",
       "      <th>2020-07-01</th>\n",
       "      <td>502.489990</td>\n",
       "      <td>470.510010</td>\n",
       "      <td>502.140015</td>\n",
       "      <td>498.320007</td>\n",
       "      <td>194927000.0</td>\n",
       "      <td>498.320007</td>\n",
       "    </tr>\n",
       "    <tr>\n",
       "      <th>2020-10-01</th>\n",
       "      <td>718.719971</td>\n",
       "      <td>691.119995</td>\n",
       "      <td>699.989990</td>\n",
       "      <td>705.669983</td>\n",
       "      <td>222126200.0</td>\n",
       "      <td>705.669983</td>\n",
       "    </tr>\n",
       "    <tr>\n",
       "      <th>2021-01-01</th>\n",
       "      <td>900.400024</td>\n",
       "      <td>871.599976</td>\n",
       "      <td>891.380005</td>\n",
       "      <td>883.090027</td>\n",
       "      <td>89396500.0</td>\n",
       "      <td>883.090027</td>\n",
       "    </tr>\n",
       "    <tr>\n",
       "      <th>2021-04-01</th>\n",
       "      <td>780.789978</td>\n",
       "      <td>732.609985</td>\n",
       "      <td>770.700012</td>\n",
       "      <td>762.320007</td>\n",
       "      <td>49017400.0</td>\n",
       "      <td>762.320007</td>\n",
       "    </tr>\n",
       "    <tr>\n",
       "      <th>2021-07-01</th>\n",
       "      <td>799.000000</td>\n",
       "      <td>775.000000</td>\n",
       "      <td>787.200012</td>\n",
       "      <td>791.359985</td>\n",
       "      <td>33615800.0</td>\n",
       "      <td>791.359985</td>\n",
       "    </tr>\n",
       "    <tr>\n",
       "      <th>2021-10-01</th>\n",
       "      <td>1243.489990</td>\n",
       "      <td>1217.000000</td>\n",
       "      <td>1234.410034</td>\n",
       "      <td>1229.910034</td>\n",
       "      <td>62852100.0</td>\n",
       "      <td>1229.910034</td>\n",
       "    </tr>\n",
       "    <tr>\n",
       "      <th>2022-01-03</th>\n",
       "      <td>1208.000000</td>\n",
       "      <td>1136.040039</td>\n",
       "      <td>1189.550049</td>\n",
       "      <td>1199.780029</td>\n",
       "      <td>50521900.0</td>\n",
       "      <td>1199.780029</td>\n",
       "    </tr>\n",
       "  </tbody>\n",
       "</table>\n",
       "</div>"
      ],
      "text/plain": [
       "                   High          Low         Open        Close       Volume  \\\n",
       "Date                                                                          \n",
       "2017-01-02    56.400002    55.442001    55.745998    55.660000   39938000.0   \n",
       "2017-04-03    77.398003    75.870003    77.337997    76.690002   86307000.0   \n",
       "2017-07-03    77.921997    75.536003    76.050003    77.000000   96622500.0   \n",
       "2017-10-02    72.599998    70.825996    71.396004    71.930000   98957000.0   \n",
       "2018-01-01    72.099998    70.472000    72.000000    71.484001  105007000.0   \n",
       "2018-04-02    74.746002    70.900002    73.031998    74.166000  111737000.0   \n",
       "2018-07-02    77.491997    73.424004    73.818001    75.914001  168248500.0   \n",
       "2018-10-01    75.898003    73.349998    75.000000    75.358002  137127500.0   \n",
       "2019-01-01    70.400002    68.830002    69.241997    69.461998  120754000.0   \n",
       "2019-04-01    59.234001    57.433998    57.660000    58.362000  132735500.0   \n",
       "2019-07-01    53.214001    51.632000    51.834000    52.976002  112091500.0   \n",
       "2019-10-01    87.061996    85.269997    87.000000    86.188004  150030500.0   \n",
       "2020-01-01   193.798004   180.203995   184.699997   183.483994  304694000.0   \n",
       "2020-04-01   217.537994   200.746002   202.556000   215.962006  162659000.0   \n",
       "2020-07-01   502.489990   470.510010   502.140015   498.320007  194927000.0   \n",
       "2020-10-01   718.719971   691.119995   699.989990   705.669983  222126200.0   \n",
       "2021-01-01   900.400024   871.599976   891.380005   883.090027   89396500.0   \n",
       "2021-04-01   780.789978   732.609985   770.700012   762.320007   49017400.0   \n",
       "2021-07-01   799.000000   775.000000   787.200012   791.359985   33615800.0   \n",
       "2021-10-01  1243.489990  1217.000000  1234.410034  1229.910034   62852100.0   \n",
       "2022-01-03  1208.000000  1136.040039  1189.550049  1199.780029   50521900.0   \n",
       "\n",
       "              Adj Close  \n",
       "Date                     \n",
       "2017-01-02    55.660000  \n",
       "2017-04-03    76.690002  \n",
       "2017-07-03    77.000000  \n",
       "2017-10-02    71.930000  \n",
       "2018-01-01    71.484001  \n",
       "2018-04-02    74.166000  \n",
       "2018-07-02    75.914001  \n",
       "2018-10-01    75.358002  \n",
       "2019-01-01    69.461998  \n",
       "2019-04-01    58.362000  \n",
       "2019-07-01    52.976002  \n",
       "2019-10-01    86.188004  \n",
       "2020-01-01   183.483994  \n",
       "2020-04-01   215.962006  \n",
       "2020-07-01   498.320007  \n",
       "2020-10-01   705.669983  \n",
       "2021-01-01   883.090027  \n",
       "2021-04-01   762.320007  \n",
       "2021-07-01   791.359985  \n",
       "2021-10-01  1229.910034  \n",
       "2022-01-03  1199.780029  "
      ]
     },
     "execution_count": 50,
     "metadata": {},
     "output_type": "execute_result"
    }
   ],
   "source": [
    "#Business Quater frequency\n",
    "df_tesla.resample(rule='BQS').max()"
   ]
  },
  {
   "cell_type": "code",
   "execution_count": 53,
   "id": "c80b50a8",
   "metadata": {},
   "outputs": [
    {
     "data": {
      "text/plain": [
       "<AxesSubplot:xlabel='Date'>"
      ]
     },
     "execution_count": 53,
     "metadata": {},
     "output_type": "execute_result"
    },
    {
     "data": {
      "image/png": "[encoded data removed]",
      "text/plain": [
       "<Figure size 432x288 with 1 Axes>"
      ]
     },
     "metadata": {
      "needs_background": "light"
     },
     "output_type": "display_data"
    }
   ],
   "source": [
    "#Plotting\n",
    "df_tesla['Open'].resample(rule='BA').mean().plot(kind='bar')"
   ]
  },
  {
   "cell_type": "code",
   "execution_count": 56,
   "id": "4ed58eae",
   "metadata": {},
   "outputs": [
    {
     "data": {
      "text/plain": [
       "<AxesSubplot:xlabel='Date'>"
      ]
     },
     "execution_count": 56,
     "metadata": {},
     "output_type": "execute_result"
    },
    {
     "data": {
      "image/png": "[encoded data removed]",
      "text/plain": [
       "<Figure size 1440x576 with 1 Axes>"
      ]
     },
     "metadata": {
      "needs_background": "light"
     },
     "output_type": "display_data"
    }
   ],
   "source": [
    "#Plotting\n",
    "df_tesla['Open'].resample(rule='M').mean().plot(kind='bar', figsize=(20,8))"
   ]
  },
  {
   "cell_type": "code",
   "execution_count": 58,
   "id": "5133e1dc",
   "metadata": {},
   "outputs": [
    {
     "data": {
      "text/plain": [
       "Date\n",
       "2017-03-13          NaN\n",
       "2017-03-14          NaN\n",
       "2017-03-15          NaN\n",
       "2017-03-16          NaN\n",
       "2017-03-17          NaN\n",
       "2017-03-20          NaN\n",
       "2017-03-21          NaN\n",
       "2017-03-22          NaN\n",
       "2017-03-23          NaN\n",
       "2017-03-24          NaN\n",
       "2017-03-27    52.247273\n",
       "2017-03-28    52.862364\n",
       "2017-03-29    53.252909\n",
       "2017-03-30    53.634727\n",
       "2017-03-31    53.888000\n",
       "2017-04-03    54.500182\n",
       "2017-04-04    55.232182\n",
       "2017-04-05    55.960909\n",
       "2017-04-06    56.813091\n",
       "2017-04-07    57.631637\n",
       "Name: High, dtype: float64"
      ]
     },
     "execution_count": 58,
     "metadata": {},
     "output_type": "execute_result"
    }
   ],
   "source": [
    "df_tesla['High'].rolling(11).mean().head(20)"
   ]
  },
  {
   "cell_type": "code",
   "execution_count": 59,
   "id": "46d0e7c4",
   "metadata": {},
   "outputs": [
    {
     "data": {
      "text/html": [
       "<div>\n",
       "<style scoped>\n",
       "    .dataframe tbody tr th:only-of-type {\n",
       "        vertical-align: middle;\n",
       "    }\n",
       "\n",
       "    .dataframe tbody tr th {\n",
       "        vertical-align: top;\n",
       "    }\n",
       "\n",
       "    .dataframe thead th {\n",
       "        text-align: right;\n",
       "    }\n",
       "</style>\n",
       "<table border=\"1\" class=\"dataframe\">\n",
       "  <thead>\n",
       "    <tr style=\"text-align: right;\">\n",
       "      <th></th>\n",
       "      <th>High</th>\n",
       "      <th>Low</th>\n",
       "      <th>Open</th>\n",
       "      <th>Close</th>\n",
       "      <th>Volume</th>\n",
       "      <th>Adj Close</th>\n",
       "    </tr>\n",
       "    <tr>\n",
       "      <th>Date</th>\n",
       "      <th></th>\n",
       "      <th></th>\n",
       "      <th></th>\n",
       "      <th></th>\n",
       "      <th></th>\n",
       "      <th></th>\n",
       "    </tr>\n",
       "  </thead>\n",
       "  <tbody>\n",
       "    <tr>\n",
       "      <th>2017-03-13</th>\n",
       "      <td>49.369999</td>\n",
       "      <td>48.556000</td>\n",
       "      <td>48.964001</td>\n",
       "      <td>49.234001</td>\n",
       "      <td>15113000.0</td>\n",
       "      <td>49.234001</td>\n",
       "    </tr>\n",
       "    <tr>\n",
       "      <th>2017-03-14</th>\n",
       "      <td>51.624001</td>\n",
       "      <td>49.203999</td>\n",
       "      <td>49.222000</td>\n",
       "      <td>51.599998</td>\n",
       "      <td>37992000.0</td>\n",
       "      <td>51.599998</td>\n",
       "    </tr>\n",
       "    <tr>\n",
       "      <th>2017-03-15</th>\n",
       "      <td>52.200001</td>\n",
       "      <td>50.854000</td>\n",
       "      <td>51.400002</td>\n",
       "      <td>51.146000</td>\n",
       "      <td>26654000.0</td>\n",
       "      <td>51.146000</td>\n",
       "    </tr>\n",
       "    <tr>\n",
       "      <th>2017-03-16</th>\n",
       "      <td>53.150002</td>\n",
       "      <td>51.812000</td>\n",
       "      <td>52.480000</td>\n",
       "      <td>52.410000</td>\n",
       "      <td>35661000.0</td>\n",
       "      <td>52.410000</td>\n",
       "    </tr>\n",
       "    <tr>\n",
       "      <th>2017-03-17</th>\n",
       "      <td>53.066002</td>\n",
       "      <td>52.240002</td>\n",
       "      <td>52.799999</td>\n",
       "      <td>52.299999</td>\n",
       "      <td>32487500.0</td>\n",
       "      <td>52.299999</td>\n",
       "    </tr>\n",
       "  </tbody>\n",
       "</table>\n",
       "</div>"
      ],
      "text/plain": [
       "                 High        Low       Open      Close      Volume  Adj Close\n",
       "Date                                                                         \n",
       "2017-03-13  49.369999  48.556000  48.964001  49.234001  15113000.0  49.234001\n",
       "2017-03-14  51.624001  49.203999  49.222000  51.599998  37992000.0  51.599998\n",
       "2017-03-15  52.200001  50.854000  51.400002  51.146000  26654000.0  51.146000\n",
       "2017-03-16  53.150002  51.812000  52.480000  52.410000  35661000.0  52.410000\n",
       "2017-03-17  53.066002  52.240002  52.799999  52.299999  32487500.0  52.299999"
      ]
     },
     "execution_count": 59,
     "metadata": {},
     "output_type": "execute_result"
    }
   ],
   "source": [
    "df_tesla.head()"
   ]
  },
  {
   "cell_type": "code",
   "execution_count": 60,
   "id": "b7e42380",
   "metadata": {},
   "outputs": [],
   "source": [
    "df_tesla['Open: 30 days rolling']=df_tesla['Open'].rolling(30).mean()"
   ]
  },
  {
   "cell_type": "code",
   "execution_count": 63,
   "id": "1e622ea4",
   "metadata": {},
   "outputs": [
    {
     "data": {
      "text/html": [
       "<div>\n",
       "<style scoped>\n",
       "    .dataframe tbody tr th:only-of-type {\n",
       "        vertical-align: middle;\n",
       "    }\n",
       "\n",
       "    .dataframe tbody tr th {\n",
       "        vertical-align: top;\n",
       "    }\n",
       "\n",
       "    .dataframe thead th {\n",
       "        text-align: right;\n",
       "    }\n",
       "</style>\n",
       "<table border=\"1\" class=\"dataframe\">\n",
       "  <thead>\n",
       "    <tr style=\"text-align: right;\">\n",
       "      <th></th>\n",
       "      <th>High</th>\n",
       "      <th>Low</th>\n",
       "      <th>Open</th>\n",
       "      <th>Close</th>\n",
       "      <th>Volume</th>\n",
       "      <th>Adj Close</th>\n",
       "      <th>Open: 30 days rolling</th>\n",
       "    </tr>\n",
       "    <tr>\n",
       "      <th>Date</th>\n",
       "      <th></th>\n",
       "      <th></th>\n",
       "      <th></th>\n",
       "      <th></th>\n",
       "      <th></th>\n",
       "      <th></th>\n",
       "      <th></th>\n",
       "    </tr>\n",
       "  </thead>\n",
       "  <tbody>\n",
       "    <tr>\n",
       "      <th>2017-03-13</th>\n",
       "      <td>49.369999</td>\n",
       "      <td>48.556000</td>\n",
       "      <td>48.964001</td>\n",
       "      <td>49.234001</td>\n",
       "      <td>15113000.0</td>\n",
       "      <td>49.234001</td>\n",
       "      <td>NaN</td>\n",
       "    </tr>\n",
       "    <tr>\n",
       "      <th>2017-03-14</th>\n",
       "      <td>51.624001</td>\n",
       "      <td>49.203999</td>\n",
       "      <td>49.222000</td>\n",
       "      <td>51.599998</td>\n",
       "      <td>37992000.0</td>\n",
       "      <td>51.599998</td>\n",
       "      <td>NaN</td>\n",
       "    </tr>\n",
       "    <tr>\n",
       "      <th>2017-03-15</th>\n",
       "      <td>52.200001</td>\n",
       "      <td>50.854000</td>\n",
       "      <td>51.400002</td>\n",
       "      <td>51.146000</td>\n",
       "      <td>26654000.0</td>\n",
       "      <td>51.146000</td>\n",
       "      <td>NaN</td>\n",
       "    </tr>\n",
       "    <tr>\n",
       "      <th>2017-03-16</th>\n",
       "      <td>53.150002</td>\n",
       "      <td>51.812000</td>\n",
       "      <td>52.480000</td>\n",
       "      <td>52.410000</td>\n",
       "      <td>35661000.0</td>\n",
       "      <td>52.410000</td>\n",
       "      <td>NaN</td>\n",
       "    </tr>\n",
       "    <tr>\n",
       "      <th>2017-03-17</th>\n",
       "      <td>53.066002</td>\n",
       "      <td>52.240002</td>\n",
       "      <td>52.799999</td>\n",
       "      <td>52.299999</td>\n",
       "      <td>32487500.0</td>\n",
       "      <td>52.299999</td>\n",
       "      <td>NaN</td>\n",
       "    </tr>\n",
       "    <tr>\n",
       "      <th>2017-03-20</th>\n",
       "      <td>52.910000</td>\n",
       "      <td>51.764000</td>\n",
       "      <td>52.119999</td>\n",
       "      <td>52.383999</td>\n",
       "      <td>18071500.0</td>\n",
       "      <td>52.383999</td>\n",
       "      <td>NaN</td>\n",
       "    </tr>\n",
       "    <tr>\n",
       "      <th>2017-03-21</th>\n",
       "      <td>52.959999</td>\n",
       "      <td>50.048000</td>\n",
       "      <td>52.566002</td>\n",
       "      <td>50.136002</td>\n",
       "      <td>34543000.0</td>\n",
       "      <td>50.136002</td>\n",
       "      <td>NaN</td>\n",
       "    </tr>\n",
       "    <tr>\n",
       "      <th>2017-03-22</th>\n",
       "      <td>51.014000</td>\n",
       "      <td>50.102001</td>\n",
       "      <td>50.312000</td>\n",
       "      <td>51.001999</td>\n",
       "      <td>20296500.0</td>\n",
       "      <td>51.001999</td>\n",
       "      <td>NaN</td>\n",
       "    </tr>\n",
       "    <tr>\n",
       "      <th>2017-03-23</th>\n",
       "      <td>51.534000</td>\n",
       "      <td>50.660000</td>\n",
       "      <td>51.077999</td>\n",
       "      <td>50.956001</td>\n",
       "      <td>16601000.0</td>\n",
       "      <td>50.956001</td>\n",
       "      <td>NaN</td>\n",
       "    </tr>\n",
       "    <tr>\n",
       "      <th>2017-03-24</th>\n",
       "      <td>52.778000</td>\n",
       "      <td>51.001999</td>\n",
       "      <td>51.139999</td>\n",
       "      <td>52.632000</td>\n",
       "      <td>28236500.0</td>\n",
       "      <td>52.632000</td>\n",
       "      <td>NaN</td>\n",
       "    </tr>\n",
       "    <tr>\n",
       "      <th>2017-03-27</th>\n",
       "      <td>54.113998</td>\n",
       "      <td>51.950001</td>\n",
       "      <td>52.119999</td>\n",
       "      <td>54.043999</td>\n",
       "      <td>31154000.0</td>\n",
       "      <td>54.043999</td>\n",
       "      <td>NaN</td>\n",
       "    </tr>\n",
       "    <tr>\n",
       "      <th>2017-03-28</th>\n",
       "      <td>56.136002</td>\n",
       "      <td>55.000000</td>\n",
       "      <td>55.403999</td>\n",
       "      <td>55.490002</td>\n",
       "      <td>39938000.0</td>\n",
       "      <td>55.490002</td>\n",
       "      <td>NaN</td>\n",
       "    </tr>\n",
       "    <tr>\n",
       "      <th>2017-03-29</th>\n",
       "      <td>55.919998</td>\n",
       "      <td>55.108002</td>\n",
       "      <td>55.667999</td>\n",
       "      <td>55.476002</td>\n",
       "      <td>18381000.0</td>\n",
       "      <td>55.476002</td>\n",
       "      <td>NaN</td>\n",
       "    </tr>\n",
       "    <tr>\n",
       "      <th>2017-03-30</th>\n",
       "      <td>56.400002</td>\n",
       "      <td>55.442001</td>\n",
       "      <td>55.608002</td>\n",
       "      <td>55.584000</td>\n",
       "      <td>20742000.0</td>\n",
       "      <td>55.584000</td>\n",
       "      <td>NaN</td>\n",
       "    </tr>\n",
       "    <tr>\n",
       "      <th>2017-03-31</th>\n",
       "      <td>55.936001</td>\n",
       "      <td>55.264000</td>\n",
       "      <td>55.745998</td>\n",
       "      <td>55.660000</td>\n",
       "      <td>16473000.0</td>\n",
       "      <td>55.660000</td>\n",
       "      <td>NaN</td>\n",
       "    </tr>\n",
       "    <tr>\n",
       "      <th>2017-04-03</th>\n",
       "      <td>59.799999</td>\n",
       "      <td>56.916000</td>\n",
       "      <td>57.380001</td>\n",
       "      <td>59.703999</td>\n",
       "      <td>69443000.0</td>\n",
       "      <td>59.703999</td>\n",
       "      <td>NaN</td>\n",
       "    </tr>\n",
       "    <tr>\n",
       "      <th>2017-04-04</th>\n",
       "      <td>60.962002</td>\n",
       "      <td>58.905998</td>\n",
       "      <td>59.377998</td>\n",
       "      <td>60.740002</td>\n",
       "      <td>50673000.0</td>\n",
       "      <td>60.740002</td>\n",
       "      <td>NaN</td>\n",
       "    </tr>\n",
       "    <tr>\n",
       "      <th>2017-04-05</th>\n",
       "      <td>60.976002</td>\n",
       "      <td>58.840000</td>\n",
       "      <td>60.408001</td>\n",
       "      <td>59.000000</td>\n",
       "      <td>39404500.0</td>\n",
       "      <td>59.000000</td>\n",
       "      <td>NaN</td>\n",
       "    </tr>\n",
       "    <tr>\n",
       "      <th>2017-04-06</th>\n",
       "      <td>60.388000</td>\n",
       "      <td>58.820000</td>\n",
       "      <td>59.375999</td>\n",
       "      <td>59.740002</td>\n",
       "      <td>27603000.0</td>\n",
       "      <td>59.740002</td>\n",
       "      <td>NaN</td>\n",
       "    </tr>\n",
       "    <tr>\n",
       "      <th>2017-04-07</th>\n",
       "      <td>60.537998</td>\n",
       "      <td>59.430000</td>\n",
       "      <td>59.500000</td>\n",
       "      <td>60.507999</td>\n",
       "      <td>22898000.0</td>\n",
       "      <td>60.507999</td>\n",
       "      <td>NaN</td>\n",
       "    </tr>\n",
       "    <tr>\n",
       "      <th>2017-04-10</th>\n",
       "      <td>62.745998</td>\n",
       "      <td>61.742001</td>\n",
       "      <td>61.830002</td>\n",
       "      <td>62.478001</td>\n",
       "      <td>38322500.0</td>\n",
       "      <td>62.478001</td>\n",
       "      <td>NaN</td>\n",
       "    </tr>\n",
       "    <tr>\n",
       "      <th>2017-04-11</th>\n",
       "      <td>62.694000</td>\n",
       "      <td>61.099998</td>\n",
       "      <td>62.675999</td>\n",
       "      <td>61.742001</td>\n",
       "      <td>28623000.0</td>\n",
       "      <td>61.742001</td>\n",
       "      <td>NaN</td>\n",
       "    </tr>\n",
       "    <tr>\n",
       "      <th>2017-04-12</th>\n",
       "      <td>61.689999</td>\n",
       "      <td>59.264000</td>\n",
       "      <td>61.268002</td>\n",
       "      <td>59.368000</td>\n",
       "      <td>30253500.0</td>\n",
       "      <td>59.368000</td>\n",
       "      <td>NaN</td>\n",
       "    </tr>\n",
       "    <tr>\n",
       "      <th>2017-04-13</th>\n",
       "      <td>61.478001</td>\n",
       "      <td>59.060001</td>\n",
       "      <td>59.340000</td>\n",
       "      <td>60.799999</td>\n",
       "      <td>46423000.0</td>\n",
       "      <td>60.799999</td>\n",
       "      <td>NaN</td>\n",
       "    </tr>\n",
       "    <tr>\n",
       "      <th>2017-04-17</th>\n",
       "      <td>60.799999</td>\n",
       "      <td>59.736000</td>\n",
       "      <td>60.540001</td>\n",
       "      <td>60.287998</td>\n",
       "      <td>20693500.0</td>\n",
       "      <td>60.287998</td>\n",
       "      <td>NaN</td>\n",
       "    </tr>\n",
       "    <tr>\n",
       "      <th>2017-04-18</th>\n",
       "      <td>60.167999</td>\n",
       "      <td>59.580002</td>\n",
       "      <td>59.939999</td>\n",
       "      <td>60.049999</td>\n",
       "      <td>15178500.0</td>\n",
       "      <td>60.049999</td>\n",
       "      <td>NaN</td>\n",
       "    </tr>\n",
       "    <tr>\n",
       "      <th>2017-04-19</th>\n",
       "      <td>61.324001</td>\n",
       "      <td>60.422001</td>\n",
       "      <td>60.492001</td>\n",
       "      <td>61.104000</td>\n",
       "      <td>19490000.0</td>\n",
       "      <td>61.104000</td>\n",
       "      <td>NaN</td>\n",
       "    </tr>\n",
       "    <tr>\n",
       "      <th>2017-04-20</th>\n",
       "      <td>61.830002</td>\n",
       "      <td>60.046001</td>\n",
       "      <td>61.301998</td>\n",
       "      <td>60.501999</td>\n",
       "      <td>30747000.0</td>\n",
       "      <td>60.501999</td>\n",
       "      <td>NaN</td>\n",
       "    </tr>\n",
       "    <tr>\n",
       "      <th>2017-04-21</th>\n",
       "      <td>61.279999</td>\n",
       "      <td>60.084000</td>\n",
       "      <td>60.400002</td>\n",
       "      <td>61.119999</td>\n",
       "      <td>22549000.0</td>\n",
       "      <td>61.119999</td>\n",
       "      <td>NaN</td>\n",
       "    </tr>\n",
       "    <tr>\n",
       "      <th>2017-04-24</th>\n",
       "      <td>62.110001</td>\n",
       "      <td>61.203999</td>\n",
       "      <td>61.844002</td>\n",
       "      <td>61.605999</td>\n",
       "      <td>25417500.0</td>\n",
       "      <td>61.605999</td>\n",
       "      <td>56.410067</td>\n",
       "    </tr>\n",
       "  </tbody>\n",
       "</table>\n",
       "</div>"
      ],
      "text/plain": [
       "                 High        Low       Open      Close      Volume  Adj Close  \\\n",
       "Date                                                                            \n",
       "2017-03-13  49.369999  48.556000  48.964001  49.234001  15113000.0  49.234001   \n",
       "2017-03-14  51.624001  49.203999  49.222000  51.599998  37992000.0  51.599998   \n",
       "2017-03-15  52.200001  50.854000  51.400002  51.146000  26654000.0  51.146000   \n",
       "2017-03-16  53.150002  51.812000  52.480000  52.410000  35661000.0  52.410000   \n",
       "2017-03-17  53.066002  52.240002  52.799999  52.299999  32487500.0  52.299999   \n",
       "2017-03-20  52.910000  51.764000  52.119999  52.383999  18071500.0  52.383999   \n",
       "2017-03-21  52.959999  50.048000  52.566002  50.136002  34543000.0  50.136002   \n",
       "2017-03-22  51.014000  50.102001  50.312000  51.001999  20296500.0  51.001999   \n",
       "2017-03-23  51.534000  50.660000  51.077999  50.956001  16601000.0  50.956001   \n",
       "2017-03-24  52.778000  51.001999  51.139999  52.632000  28236500.0  52.632000   \n",
       "2017-03-27  54.113998  51.950001  52.119999  54.043999  31154000.0  54.043999   \n",
       "2017-03-28  56.136002  55.000000  55.403999  55.490002  39938000.0  55.490002   \n",
       "2017-03-29  55.919998  55.108002  55.667999  55.476002  18381000.0  55.476002   \n",
       "2017-03-30  56.400002  55.442001  55.608002  55.584000  20742000.0  55.584000   \n",
       "2017-03-31  55.936001  55.264000  55.745998  55.660000  16473000.0  55.660000   \n",
       "2017-04-03  59.799999  56.916000  57.380001  59.703999  69443000.0  59.703999   \n",
       "2017-04-04  60.962002  58.905998  59.377998  60.740002  50673000.0  60.740002   \n",
       "2017-04-05  60.976002  58.840000  60.408001  59.000000  39404500.0  59.000000   \n",
       "2017-04-06  60.388000  58.820000  59.375999  59.740002  27603000.0  59.740002   \n",
       "2017-04-07  60.537998  59.430000  59.500000  60.507999  22898000.0  60.507999   \n",
       "2017-04-10  62.745998  61.742001  61.830002  62.478001  38322500.0  62.478001   \n",
       "2017-04-11  62.694000  61.099998  62.675999  61.742001  28623000.0  61.742001   \n",
       "2017-04-12  61.689999  59.264000  61.268002  59.368000  30253500.0  59.368000   \n",
       "2017-04-13  61.478001  59.060001  59.340000  60.799999  46423000.0  60.799999   \n",
       "2017-04-17  60.799999  59.736000  60.540001  60.287998  20693500.0  60.287998   \n",
       "2017-04-18  60.167999  59.580002  59.939999  60.049999  15178500.0  60.049999   \n",
       "2017-04-19  61.324001  60.422001  60.492001  61.104000  19490000.0  61.104000   \n",
       "2017-04-20  61.830002  60.046001  61.301998  60.501999  30747000.0  60.501999   \n",
       "2017-04-21  61.279999  60.084000  60.400002  61.119999  22549000.0  61.119999   \n",
       "2017-04-24  62.110001  61.203999  61.844002  61.605999  25417500.0  61.605999   \n",
       "\n",
       "            Open: 30 days rolling  \n",
       "Date                               \n",
       "2017-03-13                    NaN  \n",
       "2017-03-14                    NaN  \n",
       "2017-03-15                    NaN  \n",
       "2017-03-16                    NaN  \n",
       "2017-03-17                    NaN  \n",
       "2017-03-20                    NaN  \n",
       "2017-03-21                    NaN  \n",
       "2017-03-22                    NaN  \n",
       "2017-03-23                    NaN  \n",
       "2017-03-24                    NaN  \n",
       "2017-03-27                    NaN  \n",
       "2017-03-28                    NaN  \n",
       "2017-03-29                    NaN  \n",
       "2017-03-30                    NaN  \n",
       "2017-03-31                    NaN  \n",
       "2017-04-03                    NaN  \n",
       "2017-04-04                    NaN  \n",
       "2017-04-05                    NaN  \n",
       "2017-04-06                    NaN  \n",
       "2017-04-07                    NaN  \n",
       "2017-04-10                    NaN  \n",
       "2017-04-11                    NaN  \n",
       "2017-04-12                    NaN  \n",
       "2017-04-13                    NaN  \n",
       "2017-04-17                    NaN  \n",
       "2017-04-18                    NaN  \n",
       "2017-04-19                    NaN  \n",
       "2017-04-20                    NaN  \n",
       "2017-04-21                    NaN  \n",
       "2017-04-24              56.410067  "
      ]
     },
     "execution_count": 63,
     "metadata": {},
     "output_type": "execute_result"
    }
   ],
   "source": [
    "df_tesla.head(30)"
   ]
  },
  {
   "cell_type": "code",
   "execution_count": 68,
   "id": "63e0d1bb",
   "metadata": {},
   "outputs": [
    {
     "data": {
      "text/plain": [
       "<AxesSubplot:xlabel='Date'>"
      ]
     },
     "execution_count": 68,
     "metadata": {},
     "output_type": "execute_result"
    },
    {
     "data": {
      "image/png": "[encoded data removed]",
      "text/plain": [
       "<Figure size 1296x576 with 1 Axes>"
      ]
     },
     "metadata": {
      "needs_background": "light"
     },
     "output_type": "display_data"
    }
   ],
   "source": [
    "df_tesla[['Open','Open: 30 days rolling']].plot(figsize=(18,8))"
   ]
  },
  {
   "cell_type": "code",
   "execution_count": null,
   "id": "35b71529",
   "metadata": {},
   "outputs": [],
   "source": []
  }
 ],
 "metadata": {
  "kernelspec": {
   "display_name": "Python 3",
   "language": "python",
   "name": "python3"
  },
  "language_info": {
   "codemirror_mode": {
    "name": "ipython",
    "version": 3
   },
   "file_extension": ".py",
   "mimetype": "text/x-python",
   "name": "python",
   "nbconvert_exporter": "python",
   "pygments_lexer": "ipython3",
   "version": "3.8.8"
  }
 },
 "nbformat": 4,
 "nbformat_minor": 5
}
